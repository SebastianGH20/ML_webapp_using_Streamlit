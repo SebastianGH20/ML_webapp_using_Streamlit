{
    "cells": [
        {
            "cell_type": "markdown",
            "metadata": {},
            "source": [
                "# Explore here"
            ]
        },
        {
            "cell_type": "code",
            "execution_count": 1,
            "metadata": {},
            "outputs": [
                {
                    "name": "stdout",
                    "output_type": "stream",
                    "text": [
                        "Accuracy Test:  0.9172212978369384\n",
                        "F1 Score Test:  0.9172212978369384\n",
                        "Precision Test:  0.9172212978369384\n",
                        "Recall Test:  0.9172212978369384\n"
                    ]
                }
            ],
            "source": [
                "import pandas as pd\n",
                "from sklearn.model_selection import train_test_split\n",
                "from sklearn.preprocessing import LabelEncoder\n",
                "from sklearn.linear_model import LogisticRegression\n",
                "from sklearn.metrics import accuracy_score, f1_score, precision_score, recall_score\n",
                "\n",
                "# Cargar los datos\n",
                "data = pd.read_csv('anime.csv')  # Asegúrate de que el archivo anime.csv esté en el mismo directorio\n",
                "\n",
                "# Filtramos solo las columnas necesarias y eliminamos filas con valores nulos\n",
                "# Cambia 'rating' a la columna que quieres predecir, y ajusta las características según sea necesario.\n",
                "data = data[['rating', 'genre']].dropna()\n",
                "\n",
                "# Convertir 'rating' a categorías (ajusta según tu clasificación deseada)\n",
                "data['rating'] = pd.cut(data['rating'], bins=[0, 5, 10], labels=['Low', 'High'])\n",
                "\n",
                "# Usar Label Encoding para la variable dependiente y las características\n",
                "label_encoder = LabelEncoder()\n",
                "data['rating'] = label_encoder.fit_transform(data['rating'])\n",
                "X = data['genre'].values.reshape(-1, 1)  # Característica (ajusta según tus necesidades)\n",
                "y = data['rating']  # Variable dependiente\n",
                "\n",
                "# Convertir texto a características numéricas\n",
                "X = pd.get_dummies(pd.Series(X.flatten()), prefix='genre')\n",
                "\n",
                "# Dividir el dataset en conjunto de entrenamiento y prueba\n",
                "X_train, X_test, y_train, y_test = train_test_split(X, y, test_size=0.2, random_state=42)\n",
                "\n",
                "# Crear el modelo\n",
                "model = LogisticRegression(max_iter=200)\n",
                "model.fit(X_train, y_train)\n",
                "\n",
                "# Realizar predicciones\n",
                "y_pred_train = model.predict(X_train)\n",
                "y_pred_test = model.predict(X_test)\n",
                "\n",
                "# Calcular las métricas\n",
                "accuracy_test = accuracy_score(y_test, y_pred_test)\n",
                "f1_score_test = f1_score(y_test, y_pred_test, average='micro')\n",
                "precision_test = precision_score(y_test, y_pred_test, average='micro')\n",
                "recall_test = recall_score(y_test, y_pred_test, average='micro')\n",
                "\n",
                "# Imprimir las métricas\n",
                "print(\"Accuracy Test: \", accuracy_test)\n",
                "print(\"F1 Score Test: \", f1_score_test)\n",
                "print(\"Precision Test: \", precision_test)\n",
                "print(\"Recall Test: \", recall_test)\n"
            ]
        },
        {
            "cell_type": "code",
            "execution_count": 2,
            "metadata": {},
            "outputs": [],
            "source": [
                "from joblib import dump\n",
                "\n",
                "\n",
                "dump(model, open(\"anime_rating_classifier.sav\", \"wb\"))\n"
            ]
        }
    ],
    "metadata": {
        "kernelspec": {
            "display_name": "Python 3.8.13 64-bit ('3.8.13')",
            "language": "python",
            "name": "python3"
        },
        "language_info": {
            "codemirror_mode": {
                "name": "ipython",
                "version": 3
            },
            "file_extension": ".py",
            "mimetype": "text/x-python",
            "name": "python",
            "nbconvert_exporter": "python",
            "pygments_lexer": "ipython3",
            "version": "3.12.0"
        },
        "orig_nbformat": 4,
        "vscode": {
            "interpreter": {
                "hash": "110cc1dee26208153f2972f08a2ad52b6a56238dc66d48e87fb757ef2996db56"
            }
        }
    },
    "nbformat": 4,
    "nbformat_minor": 2
}
